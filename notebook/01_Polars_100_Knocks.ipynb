{
 "cells": [
  {
   "cell_type": "markdown",
   "metadata": {},
   "source": [
    "# 初学者向けPolars100本ノックver1.0.1\n",
    "##### Shift + Enter で各セルのコードが実行されます\n",
    "・print(ans[ 問題番号 ]) で回答コード例を表示  \n",
    "\n",
    "・[Polars公式リファレンス](https://pola-rs.github.io/polars/py-polars/html/reference/index.html)  \n",
    "・[Polars公式ガイド](https://pola-rs.github.io/polars-book/user-guide/)  \n",
    "・[Github](https://github.com/pola-rs/polars)  \n",
    "\n",
    "・\"Data for Titanic passengers\" from [VANDERBILT UNIVERSITY](https://biostat.app.vumc.org/wiki/Main/DataSets)  \n",
    "  \n",
    "**本コンテンツ作成時のPolarsのバージョンは0.15.16**\n",
    "  \n",
    "作成日:2023年2月11日  \n",
    "最終更新日:2023年2月11日  \n",
    "再配布・改編不可  \n",
    "作成者：[kunishou](https://qiita.com/kunishou)"
   ]
  },
  {
   "cell_type": "markdown",
   "metadata": {},
   "source": [
    "**以下の手順で100本ノックに取り組むことでより習熟しやすくなります。**\n",
    "\n",
    "① 以下のPolarsに関する記事を一読する  \n",
    "[pandasから移行する人向け polars使用ガイド](https://qiita.com/nkay/items/9cfb2776156dc7e054c8)  \n",
    "<br>\n",
    "② Polars100本ノックの解答表示版に軽く目を通す  \n",
    "[Polars_100_Knocks_for _Begginer_all_answers_displayes] (http://xxxxxxxxxxxxxx)  \n",
    "<br>\n",
    "③ Polars100本ノックに取り組む  "
   ]
  },
  {
   "cell_type": "code",
   "execution_count": null,
   "metadata": {},
   "outputs": [],
   "source": [
    "!pip install polars==0.15.16\n",
    "!pip show pyarrow==10.0.1"
   ]
  },
  {
   "cell_type": "code",
   "execution_count": null,
   "metadata": {},
   "outputs": [],
   "source": [
    "# Shift + Enterで題材データ、回答コードを読み込んで下さい\n",
    "import pandas as pd\n",
    "import polars as pl\n",
    "import glob\n",
    "\n",
    "#題材データをdfに読み込み(タイタニック号の乗客データ、テストの点数データ 等)\n",
    "def initialize1():\n",
    "    df = pl.read_csv('../input/titanic3.csv')\n",
    "    return df\n",
    "\n",
    "def initialize2():\n",
    "    df = pl.read_csv('../input/data1.csv')\n",
    "    return df\n",
    "\n",
    "def initialize5():\n",
    "    df = pl.read_csv('../input/data2.csv')\n",
    "    return df\n",
    "\n",
    "df = initialize1()\n",
    "df2 = initialize2()\n",
    "df3 = pl.read_csv('../input/data1_2.csv')\n",
    "df4 = pl.read_csv('../input/data1_3.csv')\n",
    "df5 = pl.read_csv('../input/data2.csv')\n",
    "\n",
    "#回答コードをansリストに格納\n",
    "path = sorted(glob.glob('../input/a_' + '*.txt'))\n",
    "\n",
    "ans = []\n",
    "\n",
    "for _ in range(len(path)):\n",
    "    with open(path[_], 'r',encoding='utf-8') as f:\n",
    "        ans.append(f.read())\n",
    "        \n",
    "print(ans[0])"
   ]
  },
  {
   "cell_type": "markdown",
   "metadata": {},
   "source": [
    "# Pandas基礎 (1 - 14)"
   ]
  },
  {
   "cell_type": "code",
   "execution_count": null,
   "metadata": {},
   "outputs": [],
   "source": [
    "# 【1】\n",
    "# dfに読み込んだデータの最初の5行を表示\n",
    "#print(ans[1]) #解答表示\n",
    "df = initialize1() #初期化\n",
    "\n",
    "df.head()\n",
    "\n"
   ]
  },
  {
   "cell_type": "code",
   "execution_count": null,
   "metadata": {},
   "outputs": [],
   "source": [
    "# 【2】\n",
    "# dfに読み込んだデータの最初の5行を表示\n",
    "#print(ans[2]) #解答表示\n",
    "df = initialize1() #初期化\n",
    "\n",
    "print(df.glimpse())\n",
    "\n"
   ]
  },
  {
   "cell_type": "code",
   "execution_count": null,
   "metadata": {},
   "outputs": [],
   "source": [
    "# 【3】\n",
    "# dfに読み込んだデータの最後の5行を表示\n",
    "#print(ans[3]) #解答表示\n",
    "df = initialize1() #初期化\n",
    "\n",
    "df.tail()\n",
    "\n"
   ]
  },
  {
   "cell_type": "code",
   "execution_count": null,
   "metadata": {},
   "outputs": [],
   "source": [
    "# 【4】\n",
    "# dfのDataFrameサイズを確認\n",
    "#print(ans[4]) #解答表示\n",
    "df = initialize1() #初期化\n",
    "\n",
    "df.shape\n",
    "\n"
   ]
  },
  {
   "cell_type": "code",
   "execution_count": null,
   "metadata": {},
   "outputs": [],
   "source": [
    "# 【5】\n",
    "# inputフォルダ内のdata1.csvファイルを\n",
    "# 読み込みdf2に格納して、最初の5行を表示\n",
    "#print(ans[5]) #解答表示\n",
    "df2 = initialize2() #初期化\n",
    "\n",
    "df2 = pl.read_csv('../input/data1.csv')\n",
    "df2.head()\n"
   ]
  },
  {
   "cell_type": "code",
   "execution_count": null,
   "metadata": {},
   "outputs": [],
   "source": [
    "# 【6】\n",
    "# dfのfareの列で昇順に並び替えて表示\n",
    "#print(ans[6]) #解答表示\n",
    "df = initialize1() #初期化\n",
    "\n",
    "df.select(pl.all().sort_by('fare'))\n",
    "\n"
   ]
  },
  {
   "cell_type": "code",
   "execution_count": null,
   "metadata": {},
   "outputs": [],
   "source": [
    "# 【7】\n",
    "# df_copyにdfをコピーして、最初の5行を表示\n",
    "#print(ans[7]) #解答表示\n",
    "df = initialize1() #初期化\n",
    "\n",
    "df_copy = df.clone()\n",
    "df_copy.head()\n"
   ]
  },
  {
   "cell_type": "code",
   "execution_count": null,
   "metadata": {},
   "outputs": [],
   "source": [
    "# 【8】\n",
    "# ① dfの各列のデータ型を確認\n",
    "# ② dfのcabinの列のデータ型を確認\n",
    "#print(ans[8]) #解答表示\n",
    "df = initialize1() #初期化\n",
    "\n",
    "print(df.schema)\n",
    "print(df.select(pl.col('cabin')).schema)\n"
   ]
  },
  {
   "cell_type": "code",
   "execution_count": null,
   "metadata": {},
   "outputs": [],
   "source": [
    "# 【9】\n",
    "# ① dfのpclassの列のデータ型をschemaで確認\n",
    "# ② 数値型から文字列型に変換し、データ型をschemaで確認\n",
    "#print(ans[9]) #解答表示\n",
    "df = initialize1() #初期化\n",
    "\n",
    "print(df.select(pl.col('pclass')).schema)\n",
    "df = df.with_columns(pl.col('pclass').cast(pl.Utf8))\n",
    "print(df.select(pl.col('pclass')).schema)\n"
   ]
  },
  {
   "cell_type": "code",
   "execution_count": null,
   "metadata": {},
   "outputs": [],
   "source": [
    "# 【10】\n",
    "# dfのレコード数(行数)を確認\n",
    "#print(ans[10]) #解答表示\n",
    "df = initialize1() #初期化\n",
    "\n",
    "len(df)\n",
    "\n"
   ]
  },
  {
   "cell_type": "code",
   "execution_count": null,
   "metadata": {},
   "outputs": [],
   "source": [
    "# 【11】\n",
    "# dfのレコード数(行数)、各列のデータ型、欠損値の有無を確認\n",
    "#print(ans[11]) #解答表示\n",
    "df = initialize1() #初期化\n",
    "\n",
    "df.describe()\n",
    "\n"
   ]
  },
  {
   "cell_type": "code",
   "execution_count": null,
   "metadata": {},
   "outputs": [],
   "source": [
    "# 【12】\n",
    "# dfのsex,cabinの列の要素を確認\n",
    "#print(ans[12]) #解答表示\n",
    "df = initialize1() #初期化\n",
    "\n",
    "print(df.select(pl.col('sex').unique()))\n",
    "print(df.select(pl.col('cabin').unique()))\n"
   ]
  },
  {
   "cell_type": "code",
   "execution_count": null,
   "metadata": {},
   "outputs": [],
   "source": [
    "# 【13】\n",
    "# dfの列名一覧を表示\n",
    "#print(ans[13]) #解答表示\n",
    "df = initialize1() #初期化\n",
    "\n",
    "df.columns\n",
    "\n"
   ]
  },
  {
   "cell_type": "code",
   "execution_count": null,
   "metadata": {},
   "outputs": [],
   "source": [
    "# 【14】\n",
    "# dfのpclassの列をndarray形式で表示\n",
    "#print(ans[14]) #解答表示\n",
    "df = initialize1() #初期化\n",
    "\n",
    "df.get_column('pclass').to_numpy()\n",
    "\n"
   ]
  },
  {
   "cell_type": "markdown",
   "metadata": {},
   "source": [
    "# データ抽出 (15 - 36)"
   ]
  },
  {
   "cell_type": "code",
   "execution_count": null,
   "metadata": {},
   "outputs": [],
   "source": [
    "# 【15】\n",
    "# selectを使ってdfのpclass列のみ表示\n",
    "#print(ans[15]) #解答表示\n",
    "df = initialize1() #初期化\n",
    "\n",
    "df.select('pclass')\n",
    "#df.get_column('pclass')\n"
   ]
  },
  {
   "cell_type": "code",
   "execution_count": null,
   "metadata": {},
   "outputs": [],
   "source": [
    "# 【16】\n",
    "# get_columnを用いてdfのpclass列のみ表示\n",
    "#print(ans[16]) #解答表示\n",
    "df = initialize1() #初期化\n",
    "\n",
    "df.get_column('pclass')\n",
    "\n"
   ]
  },
  {
   "cell_type": "code",
   "execution_count": null,
   "metadata": {},
   "outputs": [],
   "source": [
    "# 【17】\n",
    "# get_columnsを用いてdfのpclass列のみ表示\n",
    "#print(ans[17]) #解答表示\n",
    "df = initialize1() #初期化\n",
    "\n",
    "# df.get_columns()[0]\n",
    "df.get_columns()[df.find_idx_by_name('pclass')]\n",
    "\n"
   ]
  },
  {
   "cell_type": "code",
   "execution_count": null,
   "metadata": {},
   "outputs": [],
   "source": [
    "# 【18】\n",
    "# selectを用いてdfのnameとsexの列のみ表示\n",
    "#print(ans[18]) #解答表示\n",
    "df = initialize1() #初期化\n",
    "\n",
    "df.select(['name', 'sex'])\n",
    "# df.get_column(['name', 'sex'])\n",
    "\n"
   ]
  },
  {
   "cell_type": "code",
   "execution_count": null,
   "metadata": {},
   "outputs": [],
   "source": [
    "# 【19】\n",
    "# get_columnを用いてdfのnameとsexの列のみ表示\n",
    "#print(ans[19]) #解答表示\n",
    "df = initialize1() #初期化\n",
    "\n",
    "df.get_column(['name', 'sex'])\n",
    "\n"
   ]
  },
  {
   "cell_type": "code",
   "execution_count": null,
   "metadata": {},
   "outputs": [],
   "source": [
    "# 【20】\n",
    "# dfのname列以外を表示\n",
    "#print(ans[20]) #解答表示\n",
    "df = initialize1() #初期化\n",
    "\n",
    "df.select(pl.all().exclude('name'))\n",
    "\n"
   ]
  },
  {
   "cell_type": "code",
   "execution_count": null,
   "metadata": {},
   "outputs": [],
   "source": [
    "# 【21】\n",
    "# dfの4行目までを表示\n",
    "# なお、確認のためにwith_row_countで\n",
    "# インデックスを振る\n",
    "#print(ans[21]) #解答表示\n",
    "df = initialize1() #初期化\n",
    "\n",
    "df = df.with_row_count()\n",
    "df[:4]\n",
    "\n"
   ]
  },
  {
   "cell_type": "code",
   "execution_count": null,
   "metadata": {},
   "outputs": [],
   "source": [
    "# 【22】\n",
    "# dfの4行目から10行目までを表示\n",
    "# なお、確認のためにwith_row_countで\n",
    "# インデックスを振る\n",
    "#print(ans[22]) #解答表示\n",
    "df = initialize1() #初期化\n",
    "\n",
    "df = df.with_row_count()\n",
    "df[3:10]\n",
    "\n"
   ]
  },
  {
   "cell_type": "code",
   "execution_count": null,
   "metadata": {},
   "outputs": [],
   "source": [
    "# 【23】\n",
    "# selectを使ってdf全体を表示\n",
    "#print(ans[23]) #解答表示\n",
    "df = initialize1() #初期化\n",
    "\n",
    "df.select(pl.all())\n",
    "\n"
   ]
  },
  {
   "cell_type": "code",
   "execution_count": null,
   "metadata": {},
   "outputs": [],
   "source": [
    "# 【24】\n",
    "# dfのnameからcabinまでの列を5行目まで表示\n",
    "#print(ans[24]) #解答表示\n",
    "df = initialize1() #初期化\n",
    "\n",
    "df.select(df.columns[2:10])[:5]\n",
    "\n"
   ]
  },
  {
   "cell_type": "code",
   "execution_count": null,
   "metadata": {},
   "outputs": [],
   "source": [
    "# 【25】\n",
    "# dfのname,age,sexの列のみ抽出しdf_copyに格納\n",
    "# その後outputフォルダにcsvファイルで出力\n",
    "# 出力ファイル名はsample.csv\n",
    "#print(ans[25]) #解答表示\n",
    "df = initialize1() #初期化\n",
    "\n",
    "df_copy = df.select(['name', 'age', 'sex'])\n",
    "df_copy.write_csv('../output/sample.csv')\n",
    " \n"
   ]
  },
  {
   "cell_type": "code",
   "execution_count": null,
   "metadata": {},
   "outputs": [],
   "source": [
    "# 【26】\n",
    "# dfのage列の値が30以上のデータのみ抽出\n",
    "#print(ans[26]) #解答表示\n",
    "df = initialize1() #初期化\n",
    "\n",
    "df.filter(pl.col('age') >= 30)\n",
    "\n"
   ]
  },
  {
   "cell_type": "code",
   "execution_count": null,
   "metadata": {},
   "outputs": [],
   "source": [
    "# 【27】\n",
    "# dfのsex列がfemaleのデータのみ抽出\n",
    "#print(ans[27]) #解答表示\n",
    "df = initialize1() #初期化\n",
    "\n",
    "df.filter(pl.col('sex')=='female')\n",
    "\n"
   ]
  },
  {
   "cell_type": "code",
   "execution_count": null,
   "metadata": {},
   "outputs": [],
   "source": [
    "# 【28】\n",
    "# dfのsex列がfemaleでかつageが40以上のデータのみ抽出\n",
    "#print(ans[28]) #解答表示\n",
    "df = initialize1() #初期化\n",
    "\n",
    "df.filter((pl.col('sex')=='female') & (pl.col('age') >= 40))\n",
    "\n"
   ]
  },
  {
   "cell_type": "code",
   "execution_count": null,
   "metadata": {},
   "outputs": [],
   "source": [
    "# 【29】\n",
    "# dfのsex列がfemaleでかつageが40以上のデータを\n",
    "# 等号、不等号を使わずに抽出\n",
    "#print(ans[29]) #解答表示\n",
    "df = initialize1() #初期化\n",
    "\n",
    "df.filter(pl.col('sex').eq('female') & pl.col('age').ge(40))\n",
    "\n"
   ]
  },
  {
   "cell_type": "code",
   "execution_count": null,
   "metadata": {},
   "outputs": [],
   "source": [
    "# 【30】\n",
    "# dfのcabin列がnullでないデータを抽出\n",
    "#print(ans[30]) #解答表示\n",
    "df = initialize1() #初期化\n",
    "\n",
    "df.filter(~pl.col('cabin').is_null())\n",
    "\n"
   ]
  },
  {
   "cell_type": "code",
   "execution_count": null,
   "metadata": {},
   "outputs": [],
   "source": [
    "# 【31】\n",
    "# dfのage列が10以上、40以下のデータを\n",
    "# 等号、不等号を使わずに抽出\n",
    "#print(ans[31]) #解答表示\n",
    "df = initialize1() #初期化\n",
    "\n",
    "df.filter(pl.col('age').is_between(10,40))\n"
   ]
  },
  {
   "cell_type": "code",
   "execution_count": null,
   "metadata": {},
   "outputs": [],
   "source": [
    "# 【32】\n",
    "# dfのname列に文字列「Mrs」が含まれるデータを表示\n",
    "#print(ans[32]) #解答表示\n",
    "df = initialize1() #初期化\n",
    "\n",
    "df.filter(pl.col('name').str.contains('Mrs'))\n",
    "\n"
   ]
  },
  {
   "cell_type": "code",
   "execution_count": null,
   "metadata": {},
   "outputs": [],
   "source": [
    "# 【33】\n",
    "# dfの中で文字列型の列のみを表示\n",
    "#print(ans[33]) #解答表示\n",
    "df = initialize1() #初期化\n",
    "\n",
    "df.select(pl.col(pl.Utf8))\n",
    "\n"
   ]
  },
  {
   "cell_type": "code",
   "execution_count": null,
   "metadata": {},
   "outputs": [],
   "source": [
    "# 【34】\n",
    "# dfの各列の要素数の確認\n",
    "#print(ans[34]) #解答表示\n",
    "df = initialize1() #初期化\n",
    "\n",
    "for col in df.columns:\n",
    "    print(col, df[col].n_unique())\n"
   ]
  },
  {
   "cell_type": "code",
   "execution_count": null,
   "metadata": {},
   "outputs": [],
   "source": [
    "# 【35】\n",
    "# dfのembarked列の要素と出現回数の確認\n",
    "#print(ans[35]) #解答表示\n",
    "df = initialize1() #初期化\n",
    "\n",
    "df.get_column('embarked').value_counts()\n",
    "\n"
   ]
  },
  {
   "cell_type": "code",
   "execution_count": null,
   "metadata": {
    "scrolled": true
   },
   "outputs": [],
   "source": [
    "# 【36】\n",
    "# dfのすべての列の要素と出現回数の確認\n",
    "#print(ans[36]) #解答表示\n",
    "df = initialize1() #初期化\n",
    "\n",
    "for col in df.get_columns():\n",
    "    display(col.value_counts())\n",
    "\n"
   ]
  },
  {
   "cell_type": "markdown",
   "metadata": {},
   "source": [
    "# データ加工 (37 - 72)"
   ]
  },
  {
   "cell_type": "code",
   "execution_count": null,
   "metadata": {},
   "outputs": [],
   "source": [
    "# 【37】\n",
    "# dfに with_row_count()でインデックスを振り\n",
    "# row_nr列が「3」のage列を30から40に変更し、\n",
    "# 先頭の5行を表示\n",
    "#print(ans[37]) #解答表示\n",
    "df = initialize1() #初期化\n",
    "\n",
    "df = df.with_row_count().with_column(pl.when(pl.col('row_nr')==3).then(40).otherwise(pl.col('age')).alias('age'))\n",
    "df.head()\n"
   ]
  },
  {
   "cell_type": "code",
   "execution_count": null,
   "metadata": {},
   "outputs": [],
   "source": [
    "# 【38】\n",
    "# dfのsex列にてmale→0、femlae→1に\n",
    "# 変更し、先頭の5行を表示\n",
    "#print(ans[38]) #解答表示\n",
    "df = initialize1() #初期化\n",
    "\n",
    "df = df.with_column(pl.when(pl.col('sex')=='male').then(0)\n",
    "                        .when(pl.col('sex')=='female').then(1)\n",
    "                        .otherwise(pl.col('sex')).cast(pl.Int64).alias('sex')\n",
    "                      )\n",
    "df.head()\n"
   ]
  },
  {
   "cell_type": "code",
   "execution_count": null,
   "metadata": {
    "scrolled": true
   },
   "outputs": [],
   "source": [
    "# 【39】\n",
    "# dfのfare列に100を足して、\n",
    "# 先頭の5行を表示\n",
    "#print(ans[39]) #解答表示\n",
    "df = initialize1() #初期化\n",
    "\n",
    "df = df.with_column(pl.col('fare') + 100)\n",
    "df.head()\n"
   ]
  },
  {
   "cell_type": "code",
   "execution_count": null,
   "metadata": {},
   "outputs": [],
   "source": [
    "# 【40】\n",
    "# dfのfare列に2を掛けて、\n",
    "# 先頭の5行を表示\n",
    "#print(ans[40]) #解答表示\n",
    "df = initialize1() #初期化\n",
    "\n",
    "df = df.with_column(pl.col('fare') * 2)\n",
    "df.head()\n",
    "\n"
   ]
  },
  {
   "cell_type": "code",
   "execution_count": null,
   "metadata": {},
   "outputs": [],
   "source": [
    "# 【41】\n",
    "# dfのfare列に2を掛けて、\n",
    "# age列に3を足して\n",
    "# 先頭の5行を表示\n",
    "#print(ans[41]) #解答表示\n",
    "df = initialize1() #初期化\n",
    "\n",
    "df = df.with_columns([pl.col('fare') * 2, pl.col('age')+3])\n",
    "df.head()\n",
    "\n"
   ]
  },
  {
   "cell_type": "code",
   "execution_count": null,
   "metadata": {},
   "outputs": [],
   "source": [
    "# 【42】\n",
    "# applyを用いてdfのfare列に2を掛けて、\n",
    "# age列に1を足して\n",
    "# 先頭の5行を表示\n",
    "#print(ans[42]) #解答表示\n",
    "df = initialize1() #初期化\n",
    "\n",
    "df.apply(lambda x: (x[df.find_idx_by_name('parch')] * 2, x[df.find_idx_by_name('sibsp')] + 1))\n",
    "\n"
   ]
  },
  {
   "cell_type": "code",
   "execution_count": null,
   "metadata": {},
   "outputs": [],
   "source": [
    "# 【43】\n",
    "# dfのfare列を小数点以下で丸めて、先頭の5行を表示\n",
    "#print(ans[43]) #解答表示\n",
    "df = initialize1() #初期化\n",
    "\n",
    "df = df.with_column(pl.col('fare').round(0))\n",
    "df.head()\n",
    "\n"
   ]
  },
  {
   "cell_type": "code",
   "execution_count": null,
   "metadata": {},
   "outputs": [],
   "source": [
    "# 【44】\n",
    "# dfに列名「test」で値がすべて1の\n",
    "# カラムを追加し、先頭の5行を表示\n",
    "#print(ans[44]) #解答表示\n",
    "df = initialize1() #初期化\n",
    "\n",
    "df = df.with_column(pl.lit(1).alias('test'))\n",
    "df.head()\n"
   ]
  },
  {
   "cell_type": "code",
   "execution_count": null,
   "metadata": {},
   "outputs": [],
   "source": [
    "# 【45】\n",
    "# dfに列名「test」で値がすべて1の\n",
    "# カラムと列名「test2」で値がすべてnullの\n",
    "# カラムを追加し、先頭の5行を表示\n",
    "#print(ans[45]) #解答表示\n",
    "df = initialize1() #初期化\n",
    "\n",
    "df = df.with_columns([pl.lit(1).alias('test'), pl.lit(None).alias('test2')])\n",
    "df.head()\n",
    "\n"
   ]
  },
  {
   "cell_type": "code",
   "execution_count": null,
   "metadata": {},
   "outputs": [],
   "source": [
    "# 【46】\n",
    "# dfにcabinとembarkedの列を「_」で\n",
    "# 結合した列を追加(列名は「test」)し、\n",
    "# 先頭の5行を表示\n",
    "#print(ans[46]) #解答表示\n",
    "df = initialize1() #初期化\n",
    "\n",
    "df = df.with_column((pl.col('cabin') + '_' + pl.col('embarked')).alias('test'))\n",
    "df.head()\n",
    "\n"
   ]
  },
  {
   "cell_type": "code",
   "execution_count": null,
   "metadata": {},
   "outputs": [],
   "source": [
    "# 【47】\n",
    "# dfにageとembarkedの列を「_」で\n",
    "# 結合した列を追加(列名は「test」)し、\n",
    "# 先頭の5行を表示\n",
    "#print(ans[47]) #解答表示\n",
    "df = initialize1() #初期化\n",
    "\n",
    "df = df.with_column((pl.col('age').cast(pl.Utf8) + '_' + pl.col('embarked')).alias('test'))\n",
    "df.head()\n",
    "\n"
   ]
  },
  {
   "cell_type": "code",
   "execution_count": null,
   "metadata": {},
   "outputs": [],
   "source": [
    "# 【48】\n",
    "# dfにageとembarkedの列をconcat_strを用いて\n",
    "# 「_」で結合した列を追加(列名は「test」)し、\n",
    "# 先頭の5行を表示\n",
    "#print(ans[48]) #解答表示\n",
    "df = initialize1() #初期化\n",
    "\n",
    "df = df.with_column(\n",
    "    pl.concat_str(pl.col([\"age\", \"embarked\"]), \"_\")\n",
    "    .alias(\"test\")\n",
    "    )\n",
    "df.head()\n"
   ]
  },
  {
   "cell_type": "code",
   "execution_count": null,
   "metadata": {},
   "outputs": [],
   "source": [
    "# 【49】\n",
    "# dfからbodyの列を削除し、最初の5行を表示\n",
    "#print(ans[49]) #解答表示\n",
    "df = initialize1() #初期化\n",
    "\n",
    "df.drop_in_place('body')\n",
    "df.head()\n",
    "\n"
   ]
  },
  {
   "cell_type": "code",
   "execution_count": null,
   "metadata": {},
   "outputs": [],
   "source": [
    "# 【50】\n",
    "# dfに with_row_count()でインデックスを振り\n",
    "# row_nr列が「3」の行を削除し、最初の5行を表示\n",
    "#print(ans[50]) #解答表示\n",
    "df = initialize1() #初期化\n",
    "\n",
    "df = df.with_row_count().filter(pl.col('row_nr') != 3)\n",
    "df.head()\n",
    "\n"
   ]
  },
  {
   "cell_type": "code",
   "execution_count": null,
   "metadata": {},
   "outputs": [],
   "source": [
    "# 【51】\n",
    "# df2の列名を'name', 'class', 'Biology', 'Physics', 'Chemistry'に変更\n",
    "# df2の最初の5行を表示\n",
    "#print(ans[51]) #解答表示\n",
    "df2 = initialize2() #初期化\n",
    "\n",
    "df2.columns = ['name', 'class', 'Biology', 'Physics', 'Chemistry']\n",
    "df2.head()\n",
    "\n"
   ]
  },
  {
   "cell_type": "code",
   "execution_count": null,
   "metadata": {},
   "outputs": [],
   "source": [
    "# 【52】\n",
    "# df2の列名を'English'をBiology'に変更\n",
    "# df2の最初の5行を表示\n",
    "#print(ans[52]) #解答表示\n",
    "df2 = initialize2() #初期化\n",
    "\n",
    "\n",
    "df2 = df2.rename({'English': 'Biology'})\n",
    "df2.head()\n",
    "\n"
   ]
  },
  {
   "cell_type": "code",
   "execution_count": null,
   "metadata": {},
   "outputs": [],
   "source": [
    "# 【53】\n",
    "# dfのすべての列の欠損値数を確認\n",
    "#print(ans[53]) #解答表示\n",
    "df = initialize1() #初期化\n",
    "\n",
    "df.null_count()\n",
    "\n"
   ]
  },
  {
   "cell_type": "code",
   "execution_count": null,
   "metadata": {},
   "outputs": [],
   "source": [
    "# 【54】\n",
    "# dfのage列の欠損値に30を代入\n",
    "# その後、ageの欠損値数を確認\n",
    "#print(ans[54]) #解答表示\n",
    "df = initialize1() #初期化\n",
    "\n",
    "df = df.with_column(pl.col('age').fill_null(30).alias('age'))\n",
    "df.null_count()\n"
   ]
  },
  {
   "cell_type": "code",
   "execution_count": null,
   "metadata": {},
   "outputs": [],
   "source": [
    "# 【55】\n",
    "# dfでひとつでも欠損値がある行を削除\n",
    "# その後、dfの欠損値数を確認\n",
    "#print(ans[55]) #解答表示\n",
    "df = initialize1() #初期化\n",
    "\n",
    "df = df.drop_nulls()\n",
    "df.null_count()\n"
   ]
  },
  {
   "cell_type": "code",
   "execution_count": null,
   "metadata": {},
   "outputs": [],
   "source": [
    "# 【56】\n",
    "# dfのsurvivedの列をndarray形式(配列)で表示\n",
    "#print(ans[56]) #解答表示\n",
    "df = initialize1() #初期化\n",
    "\n",
    "df.get_column('survived').to_numpy()\n",
    "\n"
   ]
  },
  {
   "cell_type": "code",
   "execution_count": null,
   "metadata": {},
   "outputs": [],
   "source": [
    "# 【57】\n",
    "# dfの行をシャッフルし、\n",
    "# dfの最初の5行を表示\n",
    "#print(ans[57]) #解答表示\n",
    "df = initialize1() #初期化\n",
    "\n",
    "df = df.sample(frac=1.0, shuffle=True)\n",
    "df.head()\n"
   ]
  },
  {
   "cell_type": "code",
   "execution_count": null,
   "metadata": {},
   "outputs": [],
   "source": [
    "# 【58】\n",
    "# ①df2の重複行数をカウント\n",
    "# ②df2の重複行を削除し、df2を表示\n",
    "#print(ans[58]) #解答表示\n",
    "df2 = initialize2() #初期化\n",
    "\n",
    "print(df2.is_duplicated().sum())\n",
    "df2 = df2.unique()\n",
    "df2\n"
   ]
  },
  {
   "cell_type": "code",
   "execution_count": null,
   "metadata": {},
   "outputs": [],
   "source": [
    "# 【59】\n",
    "# dfのnameの列をすべて大文字に変換し表示\n",
    "#print(ans[59]) #解答表示\n",
    "df = initialize1() #初期化\n",
    "\n",
    "df.select(pl.col('name').str.to_uppercase())\n",
    "\n"
   ]
  },
  {
   "cell_type": "code",
   "execution_count": null,
   "metadata": {},
   "outputs": [],
   "source": [
    "# 【60】\n",
    "# dfのnameの列をすべて小文字に変換し表示\n",
    "#print(ans[60]) #解答表示\n",
    "df = initialize1() #初期化\n",
    "\n",
    "df.select(pl.col('name').str.to_lowercase())\n",
    "\n"
   ]
  },
  {
   "cell_type": "code",
   "execution_count": null,
   "metadata": {},
   "outputs": [],
   "source": [
    "# 【61】\n",
    "# dfのsex列に含まれる「female」という単語を\n",
    "# 「Python」に置換。その後、1行目の\n",
    "# 「female」が「Python」に置き換わったことを確認\n",
    "#print(ans[61]) #解答表示\n",
    "df = initialize1() #初期化\n",
    "\n",
    "df = df.with_column(pl.col(\"sex\").str.replace(\"female\", \"Python\"))\n",
    "df.head()\n"
   ]
  },
  {
   "cell_type": "code",
   "execution_count": null,
   "metadata": {},
   "outputs": [],
   "source": [
    "# 【62】\n",
    "# dfのname列1行目の「Allen, Miss. Elisabeth Walton」の\n",
    "# 「Elisabeth」を消去(import reをインポート)\n",
    "#print(ans[62]) #解答表示\n",
    "df = initialize1() #初期化\n",
    "\n",
    "import re\n",
    "\n",
    "df = df.with_row_count().with_column(pl.when(pl.col('row_nr')==0)\n",
    "                                .then(re.sub('Elisabeth','',df.get_column('name')[0:1][0]))\n",
    "                                .otherwise(pl.col('name')).alias('name'))\n",
    "df.get_column('name')[0:1][0]\n"
   ]
  },
  {
   "cell_type": "code",
   "execution_count": null,
   "metadata": {},
   "outputs": [],
   "source": [
    "# 【63】\n",
    "# df5の都道府県列と市区町村列を空白がないように\n",
    "# 「_」で結合(新規列名は「test2」)し、先頭5行を表示\n",
    "# ※df5の「test」列は通常通り結合した場合の結果\n",
    "#print(ans[63]) #解答表示\n",
    "df5 = initialize5() #初期化\n",
    "\n",
    "df5 = df5.with_column(\n",
    "    pl.col(\"都道府県\").str.rstrip().alias(\"都道府県名\")\n",
    ").with_column(\n",
    "    pl.concat_str(pl.col([\"都道府県名\", \"市区町村\"]), \"_\")\n",
    "    .alias(\"test2\")\n",
    ").drop(\"都道府県名\")\n",
    "df5\n",
    "\n"
   ]
  },
  {
   "cell_type": "code",
   "execution_count": null,
   "metadata": {},
   "outputs": [],
   "source": [
    "# 【64】\n",
    "# df2の行と列を入れ替えて表示\n",
    "#print(ans[64]) #解答表示\n",
    "df2 = initialize2() #初期化\n",
    "\n",
    "df2.transpose(include_header=True)\n",
    "\n"
   ]
  },
  {
   "cell_type": "markdown",
   "metadata": {},
   "source": [
    "# マージと連結(59 - 65)"
   ]
  },
  {
   "cell_type": "code",
   "execution_count": null,
   "metadata": {},
   "outputs": [],
   "source": [
    "# 【65】\n",
    "# df2にdf3を左結合（結合キーはname）し、df2に格納\n",
    "#print(ans[65]) #解答表示\n",
    "df2 = initialize2() #初期化\n",
    "\n",
    "df2 = df2.join(df3, on='name', how='left')\n",
    "df2\n",
    "\n"
   ]
  },
  {
   "cell_type": "code",
   "execution_count": null,
   "metadata": {},
   "outputs": [],
   "source": [
    "# 【66】\n",
    "# df2にdf3を右結合（結合キーはname）し、df2に格納\n",
    "#print(ans[66]) #解答表示\n",
    "df2 = initialize2() #初期化\n",
    "\n",
    "df2 = df3.join(df2, on='name', how='left')\n",
    "df2\n",
    "\n"
   ]
  },
  {
   "cell_type": "code",
   "execution_count": null,
   "metadata": {},
   "outputs": [],
   "source": [
    "# 【67】\n",
    "# df2にdf3を内部結合（結合キーはname）し、df2に格納\n",
    "#print(ans[67]) #解答表示\n",
    "df2 = initialize2() #初期化\n",
    "\n",
    "df2 = df2.join(df3, on=\"name\", how=\"inner\")\n",
    "df2\n",
    "\n"
   ]
  },
  {
   "cell_type": "code",
   "execution_count": null,
   "metadata": {},
   "outputs": [],
   "source": [
    "# 【68】\n",
    "# df2にdf3を外部結合し、df2に格納\n",
    "#print(ans[68]) #解答表示\n",
    "df2 = initialize2() #初期化\n",
    "\n",
    "df2 = df2.join(df3, on=\"name\", how=\"outer\")\n",
    "df2\n",
    "\n"
   ]
  },
  {
   "cell_type": "code",
   "execution_count": null,
   "metadata": {},
   "outputs": [],
   "source": [
    "# 【69】\n",
    "# df2にdf3を、df3にのみ存在するデータのみを残してて結合\n",
    "#print(ans[69]) #解答表示\n",
    "df2 = initialize2() #初期化\n",
    "\n",
    "\n",
    "df2 = df2.join(df3, on=\"name\", how=\"semi\")\n",
    "df2\n"
   ]
  },
  {
   "cell_type": "code",
   "execution_count": null,
   "metadata": {},
   "outputs": [],
   "source": [
    "# 【70】\n",
    "# df2にdf3を、df3に存在しないデータを残してて結合\n",
    "#print(ans[70]) #解答表示\n",
    "df2 = initialize2() #初期化\n",
    "\n",
    "\n",
    "df2 = df2.join(df3, on=\"name\", how=\"anti\")\n",
    "df2\n"
   ]
  },
  {
   "cell_type": "code",
   "execution_count": null,
   "metadata": {},
   "outputs": [],
   "source": [
    "# 【71】\n",
    "# df2とdf3のそれぞれの行を組み合わせた\n",
    "#print(ans[71]) #解答表示\n",
    "df2 = initialize2() #初期化\n",
    "\n",
    "\n",
    "df2 = df2.join(df3, on=\"name\", how=\"cross\")\n",
    "df2\n"
   ]
  },
  {
   "cell_type": "code",
   "execution_count": null,
   "metadata": {},
   "outputs": [],
   "source": [
    "# 【72】\n",
    "# df2とdf4を列方向に連結し、df2に格納\n",
    "#print(ans[72]) #解答表示\n",
    "df2 = initialize2() #初期化\n",
    "\n",
    "df2 = pl.concat([df2, df4.drop('name')], how=\"horizontal\")\n",
    "df2\n",
    "\n"
   ]
  },
  {
   "cell_type": "code",
   "execution_count": null,
   "metadata": {},
   "outputs": [],
   "source": [
    "# 【73】\n",
    "# df2とdf4を行方向に連結し、df2に格納\n",
    "#print(ans[73]) #解答表示\n",
    "df2 = initialize2() #初期化\n",
    "\n",
    "df2 = pl.concat([df2,df4], how=\"diagonal\")\n",
    "df2\n",
    "\n"
   ]
  },
  {
   "cell_type": "markdown",
   "metadata": {},
   "source": [
    "# 統計 (74 - 89)"
   ]
  },
  {
   "cell_type": "code",
   "execution_count": null,
   "metadata": {},
   "outputs": [],
   "source": [
    "# 【74】\n",
    "# dfのage列の平均値を確認\n",
    "#print(ans[74]) #解答表示\n",
    "df = initialize1() #初期化\n",
    "\n",
    "df.select(pl.col('age').mean())\n",
    "\n"
   ]
  },
  {
   "cell_type": "code",
   "execution_count": null,
   "metadata": {},
   "outputs": [],
   "source": [
    "# 【75】\n",
    "# dfのage列の中央値を確認\n",
    "#print(ans[75]) #解答表示\n",
    "df = initialize1() #初期化\n",
    "\n",
    "df.select(pl.col('age').median())\n",
    "\n"
   ]
  },
  {
   "cell_type": "code",
   "execution_count": null,
   "metadata": {},
   "outputs": [],
   "source": [
    "# 【76】\n",
    "# ①df2の生徒ごとの合計点（行方向の合計）\n",
    "# ②df2の科目ごとの点数の総和（列方向の合計）\n",
    "#print(ans[76]) #解答表示\n",
    "df2 = initialize2() #初期化\n",
    "\n",
    "df2.drop_in_place('class')\n",
    "print(df2.select(pl.sum(['English','Mathematics','History'])))\n",
    "print(df2.sum())\n",
    "\n"
   ]
  },
  {
   "cell_type": "code",
   "execution_count": null,
   "metadata": {},
   "outputs": [],
   "source": [
    "# 【77】\n",
    "# df2のEnglishで得点の最大値\n",
    "#print(ans[77]) #解答表示\n",
    "df2 = initialize2() #初期化\n",
    "\n",
    "print(df2.select(pl.col('English').max()))\n",
    "\n"
   ]
  },
  {
   "cell_type": "code",
   "execution_count": null,
   "metadata": {},
   "outputs": [],
   "source": [
    "# 【78】\n",
    "# df2のEnglishで得点の最小値\n",
    "#print(ans[78]) #解答表示\n",
    "df2 = initialize2() #初期化\n",
    "\n",
    "print(df2.select(pl.col('English').min()))\n",
    "\n"
   ]
  },
  {
   "cell_type": "code",
   "execution_count": null,
   "metadata": {},
   "outputs": [],
   "source": [
    "# 【79】\n",
    "# df2においてclassでグルーピングし、クラスごとの科目の\n",
    "# 最大値、最小値、平均値を求める(name列は削除しておく)\n",
    "#print(ans[79]) #解答表示\n",
    "df2 = initialize2() #初期化\n",
    "\n",
    "df2.drop_in_place('name')\n",
    "print(df2.groupby(['class']).max())\n",
    "print(df2.groupby(['class']).min())\n",
    "print(df2.groupby(['class']).mean())\n",
    "\n"
   ]
  },
  {
   "cell_type": "code",
   "execution_count": null,
   "metadata": {},
   "outputs": [],
   "source": [
    "# 【80】\n",
    "# df2においてclassでグルーピングし、aggを用いて\n",
    "# 各科目の平均、最大値、最小値を求める\n",
    "# なお、各科目の平均、最大値、最小値には\n",
    "# 「***_mean」のようにsuffixを振ること\n",
    "#print(ans[80]) #解答表示\n",
    "df2 = initialize2() #初期化\n",
    "\n",
    "df2.drop_in_place('name')\n",
    "df2.groupby(['class']).agg(\n",
    "    [\n",
    "        pl.mean(\"*\").suffix(\"_mean\"),\n",
    "        pl.max(\"*\").suffix(\"_max\"),\n",
    "        pl.min(\"*\").suffix(\"_min\"),\n",
    "    ]\n",
    ")\n",
    "\n"
   ]
  },
  {
   "cell_type": "code",
   "execution_count": null,
   "metadata": {},
   "outputs": [],
   "source": [
    "# 【81】\n",
    "# dfの各列間の(Pearson)相関係数を確認\n",
    "#print(ans[81]) #解答表示\n",
    "df = initialize1() #初期化\n",
    "\n",
    "df.select(pl.all().exclude(pl.Utf8)).pearson_corr()\n",
    "\n"
   ]
  },
  {
   "cell_type": "code",
   "execution_count": null,
   "metadata": {},
   "outputs": [],
   "source": [
    "# 【82】\n",
    "# scikit-learnを用いてdf2のEnglish、Mathematics、History列を標準化する\n",
    "# (from sklearn.preprocessing import StandardScalerをインポート)\n",
    "#print(ans[82]) #解答表示\n",
    "df2 = initialize2() #初期化\n",
    "\n",
    "\n",
    "from sklearn.preprocessing import StandardScaler\n",
    "\n",
    "df2 = df2.drop(['name', 'class'])\n",
    "\n",
    "#標準化を定義\n",
    "scaler = StandardScaler()\n",
    "\n",
    "#変換とデータフレームへの置換\n",
    "scaler.fit_transform(df2.to_numpy()) # 変換のみ\n",
    "df2_std = pl.DataFrame(scaler.fit_transform(df2.to_numpy()), columns=df2.columns) # 変換とデータフレームへの置換をまとめて行うとこうなる\n",
    "\n",
    "df2_std.describe() #stdが等しくなっていることを確認\n",
    "\n"
   ]
  },
  {
   "cell_type": "code",
   "execution_count": null,
   "metadata": {},
   "outputs": [],
   "source": [
    "# 【83】\n",
    "# scikit-learnを用いてdf2のEnglish列を標準化する\n",
    "# (from sklearn.preprocessing import StandardScalerをインポート)\n",
    "#print(ans[83]) #解答表示\n",
    "df2 = initialize2() #初期化\n",
    "\n",
    "from sklearn.preprocessing import StandardScaler\n",
    "\n",
    "#標準化を定義\n",
    "scaler = StandardScaler()\n",
    "scaler.fit(df2.select(pl.col('English')).to_numpy().reshape(-1,1))\n",
    "\n",
    "#変換とデータフレームへの置換\n",
    "scaler.transform(df2['English'].to_numpy().reshape(-1,1)) # 変換のみ\n",
    "df2_std = pl.DataFrame(scaler.transform(df2['English'].to_numpy().reshape(-1,1))) # 変換とデータフレームへの置換をまとめて行うとこうなる\n",
    "\n",
    "df2_std.describe() #stdが【74】のEnglishと等しくなっていることを確認\n",
    "\n"
   ]
  },
  {
   "cell_type": "code",
   "execution_count": null,
   "metadata": {},
   "outputs": [],
   "source": [
    "# 【84】\n",
    "# scikit-learnを用いてdf2のEnglish、Mathematics、History列を\n",
    "# Min-Maxスケーリングする\n",
    "# (from sklearn.preprocessing import MinMaxScalerをインポート)\n",
    "#print(ans[84]) #解答表示\n",
    "df2 = initialize2() #初期化\n",
    "\n",
    "\n",
    "from sklearn.preprocessing import MinMaxScaler\n",
    "\n",
    "df2 = df2.drop(['name','class']) #不要列の削除\n",
    "\n",
    "# Min-Maxスケーリングを定義\n",
    "scaler = MinMaxScaler()\n",
    "\n",
    "# 変換とデータフレームへの置換\n",
    "scaler.fit_transform(df2.to_numpy()) # 変換のみ\n",
    "df2_std = pl.DataFrame(scaler.fit_transform(df2.to_numpy()), columns=df2.columns) # 変換とデータフレームへの置換をまとめて行うとこうなる\n",
    "\n",
    "df2_std.describe() #minが0、maxが1になっていることを確認\n",
    "\n"
   ]
  },
  {
   "cell_type": "code",
   "execution_count": null,
   "metadata": {},
   "outputs": [],
   "source": [
    "# 【85】\n",
    "# dfのfare列の最大値、最小値の行名を取得\n",
    "#print(ans[85]) #解答表示\n",
    "df = initialize1() #初期化\n",
    "\n",
    "df = df.with_row_count()\n",
    "\n",
    "display(df.filter(pl.col('fare') == pl.col('fare').max()))\n",
    "display(df.filter(pl.col('fare') == pl.col('fare').min()))\n",
    "\n"
   ]
  },
  {
   "cell_type": "code",
   "execution_count": null,
   "metadata": {},
   "outputs": [],
   "source": [
    "# 【86】\n",
    "# dfのfare列の0、25、50、75、100パーセンタイルを取得\n",
    "#print(ans[86]) #解答表示\n",
    "df = initialize1() #初期化\n",
    "\n",
    "q_list = [0, 0.25, 0.5, 0.75, 1.0]\n",
    "\n",
    "for n in q_list:\n",
    "    print(df.select(pl.col('fare').quantile(n)))\n",
    "\n"
   ]
  },
  {
   "cell_type": "code",
   "execution_count": null,
   "metadata": {},
   "outputs": [],
   "source": [
    "# 【87】\n",
    "# ①dfのage列の最頻値を取得\n",
    "# ②value_counts()にてage列の要素数を\n",
    "# 確認し、①の結果の妥当性を確認\n",
    "#print(ans[87]) #解答表示\n",
    "df = initialize1() #初期化\n",
    "\n",
    "print(df.filter(~pl.col('age').is_null()).select(pl.col('age').cast(pl.Utf8).mode()))\n",
    "print(df.select(pl.col('age').value_counts()))\n",
    "\n"
   ]
  },
  {
   "cell_type": "markdown",
   "metadata": {},
   "source": [
    "# ラベリング (80 - 81)"
   ]
  },
  {
   "cell_type": "code",
   "execution_count": null,
   "metadata": {},
   "outputs": [],
   "source": [
    "# 【88】\n",
    "# dfのsex列をラベルエンコーディングし、\n",
    "# dfの先頭5行を表示\n",
    "# (from sklearn.preprocessing import LabelEncoderをインポート)\n",
    "#print(ans[88]) #解答表示\n",
    "df = initialize1() #初期化\n",
    "\n",
    "from sklearn.preprocessing import LabelEncoder\n",
    "\n",
    "le = LabelEncoder() #ラベルエンコーダのインスタンスを作成\n",
    "sex = df.select(pl.col('sex')).to_numpy()\n",
    "labels = le.fit_transform(sex)\n",
    "df = df.with_column(pl.Series(labels).alias(\"sex\"))\n",
    "df.head()\n",
    "\n"
   ]
  },
  {
   "cell_type": "code",
   "execution_count": null,
   "metadata": {},
   "outputs": [],
   "source": [
    "# 【89】\n",
    "# dfのsex列をOne-hotエンコーディングし、\n",
    "# dfの先頭5行を表示\n",
    "#print(ans[89]) #解答表示\n",
    "df = initialize1() #初期化\n",
    "\n",
    "df = pl.concat([df.drop('sex'), df.select(pl.col('sex')).to_dummies()], how='horizontal')\n",
    "df.head()\n",
    "\n"
   ]
  },
  {
   "cell_type": "markdown",
   "metadata": {},
   "source": [
    "# タイタニック号の生存者予測 (90 - 100)  \n",
    "これまで触れてきたタイタニック号の乗客データを使用して、乗客の生存有無を  \n",
    "予測してみます。  \n",
    "  \n",
    "※90～100については順番通りにやらないと上手く動作しません"
   ]
  },
  {
   "cell_type": "code",
   "execution_count": null,
   "metadata": {},
   "outputs": [],
   "source": [
    "# 【90】ラベルエンコーディング\n",
    "# df_copyのsexとembarked列をラベルエンコーディング\n",
    "# (from sklearn.preprocessing import LabelEncoderをインポート)\n",
    "# (df_copyはdfをコピーしたもの)\n",
    "#print(ans[90]) #解答表示\n",
    "df = initialize1() #初期化\n",
    "df_copy =df.clone()\n",
    "\n",
    "from sklearn.preprocessing import LabelEncoder\n",
    "\n",
    "le = LabelEncoder() #ラベルエンコーダのインスタンスを作成\n",
    "sex = df_copy.select(pl.col('sex')).to_numpy()\n",
    "embarked = df_copy.select(pl.col('embarked')).to_numpy()\n",
    "label_sex = le.fit_transform(sex)\n",
    "label_embarked = le.fit_transform(embarked)\n",
    "df_copy = df_copy.with_columns([pl.Series(label_sex).alias(\"sex\"), pl.Series(label_embarked).alias(\"embarked\")])\n",
    "df_copy.head()\n",
    "\n"
   ]
  },
  {
   "cell_type": "code",
   "execution_count": null,
   "metadata": {},
   "outputs": [],
   "source": [
    "# 【91】欠損値確認\n",
    "# df_copyの欠損値を確認\n",
    "#print(ans[91]) #解答表示\n",
    "\n",
    "\n",
    "display(df_copy.null_count())\n",
    "\n"
   ]
  },
  {
   "cell_type": "code",
   "execution_count": null,
   "metadata": {},
   "outputs": [],
   "source": [
    "# 【92】欠損値補完\n",
    "# df_copyのage、fare列の欠損値を各列の平均値で補完\n",
    "#print(ans[92]) #解答表示\n",
    "\n",
    "df_copy = df_copy.with_columns([pl.col('age').fill_null(pl.col('age').mean())])\n",
    "df_copy = df_copy.with_columns([pl.col('fare').fill_null(pl.col('fare').mean())])\n",
    "df_copy.null_count()\n",
    "\n"
   ]
  },
  {
   "cell_type": "code",
   "execution_count": null,
   "metadata": {},
   "outputs": [],
   "source": [
    "# 【93】不要列の削除\n",
    "# df_copyの中で機械学習で使用しない不要な行を削除\n",
    "# (name, ticket, cabin, boat, body, home.destを削除)\n",
    "#print(ans[93]) #解答表示\n",
    "\n",
    "df_copy.drop(['name', 'ticket', 'cabin', 'boat', 'body', 'home.dest'])\n",
    "df_copy.head()\n",
    "\n"
   ]
  },
  {
   "cell_type": "code",
   "execution_count": null,
   "metadata": {},
   "outputs": [],
   "source": [
    "# 【94】ndarray形式への変換\n",
    "# ①df_copyのpclass、age、sex、fare、embarkedの列を抽出し、ndarray形式に変換\n",
    "# ②df_copyのsurvivedの列を抽出し、ndarray形式に変換\n",
    "# (①をfeatures、②をtargetという変数にそれぞれ格納)\n",
    "#print(ans[94]) #解答表示\n",
    "\n",
    "features = df_copy.select(['pclass','age','sex','fare','embarked']).to_numpy()\n",
    "target = df_copy.select('survived').to_numpy()\n",
    "\n"
   ]
  },
  {
   "cell_type": "code",
   "execution_count": null,
   "metadata": {},
   "outputs": [],
   "source": [
    "# 【95】学習データとテストデータに分割\n",
    "# 【94】で作成したfeatrues、targetを学習データとテストデータに分割\n",
    "# (from sklearn.model_selection import  train_test_splitをインポート)\n",
    "# ※分割時のパラメータは次を指定 test_size=0.3 random_state=0\n",
    "#print(ans[95]) #解答表示\n",
    "\n",
    "from sklearn.model_selection import train_test_split\n",
    "\n",
    "(features , test_X , target , test_y) = train_test_split(features, target , test_size = 0.3 , random_state = 0)\n",
    "\n"
   ]
  },
  {
   "cell_type": "code",
   "execution_count": null,
   "metadata": {},
   "outputs": [],
   "source": [
    "# 【96】学習の実行\n",
    "# 学習データ(features、target)を用いランダムフォレストにて学習を実行\n",
    "# (from sklearn.ensemble import RandomForestClassifierをインポート)\n",
    "# ※パラメータは次を指定 n_estimators=100 random_state=0\n",
    "#print(ans[96]) #解答表示\n",
    "\n",
    "from sklearn.ensemble import RandomForestClassifier\n",
    "\n",
    "model = RandomForestClassifier(n_estimators=100,random_state=0) # ランダムフォレストのインスタンスを作成\n",
    "\n",
    "model.fit(features,target) # 学習の実行\n",
    "\n"
   ]
  },
  {
   "cell_type": "code",
   "execution_count": null,
   "metadata": {},
   "outputs": [],
   "source": [
    "# 【97】予測の実行\n",
    "# test_Xデータの乗客の生存を予測\n",
    "#print(ans[97]) #解答表示\n",
    "\n",
    "pred = model.predict(test_X)\n",
    "pred\n",
    "\n"
   ]
  },
  {
   "cell_type": "code",
   "execution_count": null,
   "metadata": {},
   "outputs": [],
   "source": [
    "# 【98】予測精度の確認\n",
    "# 予測結果がtest_y(生存有無の答え)とどれぐらい\n",
    "# 整合していたかを確認(評価指標はaccuracy)\n",
    "# (from sklearn.metrics import accuracy_scoreをインポート)\n",
    "#print(ans[98]) #解答表示\n",
    "\n",
    "from sklearn.metrics import accuracy_score\n",
    "\n",
    "accuracy_score(pred,test_y)\n",
    "\n"
   ]
  },
  {
   "cell_type": "code",
   "execution_count": null,
   "metadata": {},
   "outputs": [],
   "source": [
    "# 【99】重要度の確認\n",
    "# 学習における各列(特徴量)の\n",
    "# 重要度を表示\n",
    "#print(ans[99]) #解答表示\n",
    "\n",
    "importance = model.feature_importances_ \n",
    "\n",
    "print('Feature Importances:')\n",
    "for i, feat in enumerate(['pclass','age','sex','fare','embarked']):\n",
    "    print('\\t{0:20s} : {1:>.5f}'.format(feat, importance[i]))\n",
    "\n"
   ]
  },
  {
   "cell_type": "code",
   "execution_count": null,
   "metadata": {},
   "outputs": [],
   "source": [
    "# 【100】予測結果のcsv出力\n",
    "# test_Xの予測結果をcsvでoutputフォルダに出力(ファイル名は「submission.csv」)\n",
    "# (headerは不要)\n",
    "#print(ans[100]) #解答表示\n",
    "\n",
    "df_pred = pl.DataFrame(pred)\n",
    "df_pred.write_csv('../output/submission.csv', has_header=False)\n",
    "\n"
   ]
  },
  {
   "cell_type": "markdown",
   "metadata": {},
   "source": [
    "# ノックお疲れ様でした"
   ]
  }
 ],
 "metadata": {
  "kernelspec": {
   "display_name": "Python 3",
   "language": "python",
   "name": "python3"
  },
  "language_info": {
   "codemirror_mode": {
    "name": "ipython",
    "version": 3
   },
   "file_extension": ".py",
   "mimetype": "text/x-python",
   "name": "python",
   "nbconvert_exporter": "python",
   "pygments_lexer": "ipython3",
   "version": "3.7.6"
  }
 },
 "nbformat": 4,
 "nbformat_minor": 4
}
